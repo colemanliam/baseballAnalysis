{
 "cells": [
  {
   "cell_type": "code",
   "execution_count": 34,
   "metadata": {},
   "outputs": [],
   "source": [
    "import pandas as pd\n",
    "from os import environ, scandir\n",
    "from pathlib import Path\n",
    "import sqlite3\n",
    "from sqlalchemy import create_engine, text\n",
    "from sqlalchemy.types import Integer, Text, String, DateTime"
   ]
  },
  {
   "cell_type": "code",
   "execution_count": 20,
   "metadata": {},
   "outputs": [],
   "source": [
    "engine = create_engine('sqlite:///baseball_stats.db')\n",
    "conn = engine.connect()\n"
   ]
  },
  {
   "cell_type": "code",
   "execution_count": 36,
   "metadata": {},
   "outputs": [],
   "source": [
    "path_of_directory = r'baseballdatabank\\core'\n",
    "for files in scandir(path_of_directory):\n",
    "    data = pd.read_csv(files)\n",
    "    df = pd.DataFrame(data)\n",
    "    df.to_sql(\n",
    "        Path(files).stem,\n",
    "        engine,\n",
    "        if_exists='replace',\n",
    "        index=False,\n",
    "        chunksize=500\n",
    "    )\n",
    "    "
   ]
  }
 ],
 "metadata": {
  "kernelspec": {
   "display_name": "Python 3.9.3 64-bit",
   "language": "python",
   "name": "python3"
  },
  "language_info": {
   "codemirror_mode": {
    "name": "ipython",
    "version": 3
   },
   "file_extension": ".py",
   "mimetype": "text/x-python",
   "name": "python",
   "nbconvert_exporter": "python",
   "pygments_lexer": "ipython3",
   "version": "3.9.3"
  },
  "orig_nbformat": 4,
  "vscode": {
   "interpreter": {
    "hash": "59cd1b241e02d6eb64a3514a5541a126f77c2701f18d3f0a5676651af87bd446"
   }
  }
 },
 "nbformat": 4,
 "nbformat_minor": 2
}
