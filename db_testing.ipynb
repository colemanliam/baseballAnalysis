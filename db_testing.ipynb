{
 "cells": [
  {
   "cell_type": "code",
   "execution_count": 1,
   "metadata": {},
   "outputs": [],
   "source": [
    "import sqlalchemy as db"
   ]
  },
  {
   "cell_type": "code",
   "execution_count": 2,
   "metadata": {},
   "outputs": [],
   "source": [
    "engine = db.create_engine('sqlite:///baseball_stats.db')\n",
    "conn = engine.connect()"
   ]
  },
  {
   "cell_type": "code",
   "execution_count": 3,
   "metadata": {},
   "outputs": [
    {
     "name": "stdout",
     "output_type": "stream",
     "text": [
      "[('hello world',)]\n"
     ]
    },
    {
     "data": {
      "text/plain": [
       "\"SELECT playerID, birthYear         FROM People         WHERE nameLast LIKE '%Bautista%' AND nameFirst LIKE '%Jose%'         ORDER BY birthYear desc\""
      ]
     },
     "execution_count": 3,
     "metadata": {},
     "output_type": "execute_result"
    }
   ],
   "source": [
    "result = conn.execute(db.text(\"select 'hello world'\"))\n",
    "print(result.all())\n",
    "l_name = \"Bautista\"\n",
    "f_name = \"Jose\"\n",
    "query = \"SELECT playerID, birthYear \\\n",
    "        FROM People \\\n",
    "        WHERE nameLast LIKE '%\" + l_name + \"%' AND nameFirst LIKE '%\" + f_name+\"%' \\\n",
    "        ORDER BY birthYear desc\"\n",
    "query"
   ]
  },
  {
   "cell_type": "code",
   "execution_count": 4,
   "metadata": {},
   "outputs": [
    {
     "name": "stdout",
     "output_type": "stream",
     "text": [
      "[('bautijo02', 1980.0), ('bautijo01', 1964.0)]\n"
     ]
    }
   ],
   "source": [
    "result = conn.execute(db.text(query))\n",
    "print(result.all())"
   ]
  },
  {
   "cell_type": "code",
   "execution_count": 5,
   "metadata": {},
   "outputs": [
    {
     "ename": "",
     "evalue": "",
     "output_type": "error",
     "traceback": [
      "\u001b[1;31mThe Kernel crashed while executing code in the the current cell or a previous cell. Please review the code in the cell(s) to identify a possible cause of the failure. Click <a href='https://aka.ms/vscodeJupyterKernelCrash'>here</a> for more info. View Jupyter <a href='command:jupyter.viewOutput'>log</a> for further details."
     ]
    }
   ],
   "source": [
    "conn.close()\n",
    "engine.dispose()"
   ]
  }
 ],
 "metadata": {
  "kernelspec": {
   "display_name": "Python 3.9.3 64-bit",
   "language": "python",
   "name": "python3"
  },
  "language_info": {
   "codemirror_mode": {
    "name": "ipython",
    "version": 3
   },
   "file_extension": ".py",
   "mimetype": "text/x-python",
   "name": "python",
   "nbconvert_exporter": "python",
   "pygments_lexer": "ipython3",
   "version": "3.9.3"
  },
  "orig_nbformat": 4,
  "vscode": {
   "interpreter": {
    "hash": "59cd1b241e02d6eb64a3514a5541a126f77c2701f18d3f0a5676651af87bd446"
   }
  }
 },
 "nbformat": 4,
 "nbformat_minor": 2
}
