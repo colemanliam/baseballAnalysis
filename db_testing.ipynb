{
 "cells": [
  {
   "cell_type": "code",
   "execution_count": 29,
   "metadata": {},
   "outputs": [],
   "source": [
    "import sqlalchemy as db\n",
    "from sqlalchemy.orm import Session"
   ]
  },
  {
   "cell_type": "code",
   "execution_count": 34,
   "metadata": {},
   "outputs": [],
   "source": [
    "engine = db.create_engine('sqlite:///baseball_stats.db', echo=True, future=True)\n",
    "#conn = engine.connect()"
   ]
  },
  {
   "cell_type": "code",
   "execution_count": 31,
   "metadata": {},
   "outputs": [
    {
     "ename": "NameError",
     "evalue": "name 'select' is not defined",
     "output_type": "error",
     "traceback": [
      "\u001b[1;31m---------------------------------------------------------------------------\u001b[0m",
      "\u001b[1;31mNameError\u001b[0m                                 Traceback (most recent call last)",
      "Cell \u001b[1;32mIn [31], line 2\u001b[0m\n\u001b[0;32m      1\u001b[0m session \u001b[38;5;241m=\u001b[39m Session(engine)\n\u001b[1;32m----> 2\u001b[0m statement \u001b[38;5;241m=\u001b[39m \u001b[43mselect\u001b[49m(People)\n",
      "\u001b[1;31mNameError\u001b[0m: name 'select' is not defined"
     ]
    }
   ],
   "source": [
    "session = Session(engine)\n",
    "statement = select(People)\n",
    "#result = session.query(People).filter(nameFirst=\"Jose\").first()"
   ]
  },
  {
   "cell_type": "code",
   "execution_count": 20,
   "metadata": {},
   "outputs": [],
   "source": [
    "playerID=\"bautijo02\"\n",
    "query = f\"SELECT * \\\n",
    "        FROM Batting \\\n",
    "        WHERE playerID LIKE '%{playerID}%' \\\n",
    "        ORDER BY yearID desc\"\n"
   ]
  },
  {
   "cell_type": "code",
   "execution_count": 22,
   "metadata": {},
   "outputs": [
    {
     "name": "stdout",
     "output_type": "stream",
     "text": [
      "[('bautijo02', 2018, 1, 'ATL', 'NL', 12, 35, 3, 5, 1, 0, 2, 5.0, 0.0, 0.0, 5, 12.0, 0.0, 0.0, 0.0, 0.0, 0.0), ('bautijo02', 2018, 2, 'NYN', 'NL', 83, 245, 37, 50, 13, 0, 9, 37.0, 2.0, 2.0, 51, 84.0, 2.0, 5.0, 0.0, 1.0, 2.0), ('bautijo02', 2018, 3, 'PHI', 'NL', 27, 45, 12, 11, 4, 0, 2, 6.0, 2.0, 1.0, 11, 15.0, 0.0, 1.0, 0.0, 0.0, 0.0), ('bautijo02', 2017, 1, 'TOR', 'AL', 157, 587, 92, 119, 27, 0, 23, 65.0, 6.0, 3.0, 84, 170.0, 3.0, 8.0, 0.0, 7.0, 16.0), ('bautijo02', 2016, 1, 'TOR', 'AL', 116, 423, 68, 99, 24, 1, 22, 69.0, 2.0, 2.0, 87, 103.0, 1.0, 3.0, 0.0, 4.0, 21.0), ('bautijo02', 2015, 1, 'TOR', 'AL', 153, 543, 108, 136, 29, 3, 40, 114.0, 8.0, 2.0, 110, 106.0, 2.0, 5.0, 0.0, 8.0, 19.0), ('bautijo02', 2014, 1, 'TOR', 'AL', 155, 553, 101, 158, 27, 0, 35, 103.0, 6.0, 2.0, 104, 96.0, 11.0, 9.0, 1.0, 6.0, 18.0), ('bautijo02', 2013, 1, 'TOR', 'AL', 118, 452, 82, 117, 24, 0, 28, 73.0, 7.0, 2.0, 69, 84.0, 2.0, 3.0, 0.0, 4.0, 13.0), ('bautijo02', 2012, 1, 'TOR', 'AL', 92, 332, 64, 80, 14, 0, 27, 65.0, 5.0, 2.0, 59, 63.0, 2.0, 4.0, 0.0, 4.0, 11.0), ('bautijo02', 2011, 1, 'TOR', 'AL', 149, 513, 105, 155, 24, 2, 43, 103.0, 9.0, 5.0, 132, 111.0, 24.0, 6.0, 0.0, 4.0, 8.0), ('bautijo02', 2010, 1, 'TOR', 'AL', 161, 569, 109, 148, 35, 3, 54, 124.0, 9.0, 2.0, 100, 116.0, 2.0, 10.0, 0.0, 4.0, 10.0), ('bautijo02', 2009, 1, 'TOR', 'AL', 113, 336, 54, 79, 13, 3, 13, 40.0, 4.0, 0.0, 56, 85.0, 1.0, 4.0, 6.0, 2.0, 9.0), ('bautijo02', 2008, 1, 'PIT', 'NL', 107, 314, 38, 76, 15, 0, 12, 44.0, 1.0, 1.0, 38, 77.0, 4.0, 2.0, 6.0, 3.0, 10.0), ('bautijo02', 2008, 2, 'TOR', 'AL', 21, 56, 7, 12, 2, 0, 3, 10.0, 0.0, 0.0, 2, 14.0, 1.0, 0.0, 2.0, 1.0, 2.0), ('bautijo02', 2007, 1, 'PIT', 'NL', 142, 532, 75, 135, 36, 2, 15, 63.0, 6.0, 3.0, 68, 101.0, 1.0, 4.0, 4.0, 6.0, 16.0), ('bautijo02', 2006, 1, 'PIT', 'NL', 117, 400, 58, 94, 20, 3, 16, 51.0, 2.0, 4.0, 46, 110.0, 2.0, 16.0, 3.0, 4.0, 12.0), ('bautijo02', 2005, 1, 'PIT', 'NL', 11, 28, 3, 4, 1, 0, 0, 1.0, 1.0, 0.0, 3, 7.0, 0.0, 0.0, 0.0, 0.0, 2.0), ('bautijo02', 2004, 1, 'BAL', 'AL', 16, 11, 3, 3, 0, 0, 0, 0.0, 0.0, 0.0, 1, 3.0, 0.0, 0.0, 0.0, 0.0, 0.0), ('bautijo02', 2004, 2, 'TBA', 'AL', 12, 12, 1, 2, 0, 0, 0, 1.0, 0.0, 1.0, 3, 7.0, 0.0, 0.0, 0.0, 0.0, 0.0), ('bautijo02', 2004, 3, 'KCA', 'AL', 13, 25, 1, 5, 1, 0, 0, 1.0, 0.0, 0.0, 1, 12.0, 0.0, 0.0, 0.0, 0.0, 0.0), ('bautijo02', 2004, 4, 'PIT', 'NL', 23, 40, 1, 8, 2, 0, 0, 0.0, 0.0, 0.0, 2, 18.0, 0.0, 0.0, 1.0, 0.0, 1.0)]\n"
     ]
    }
   ],
   "source": [
    "result = conn.execute(db.text(query))\n",
    "print(result.all())"
   ]
  },
  {
   "cell_type": "code",
   "execution_count": 23,
   "metadata": {},
   "outputs": [],
   "source": [
    "conn.close()\n",
    "engine.dispose()"
   ]
  }
 ],
 "metadata": {
  "kernelspec": {
   "display_name": "Python 3.10.6 64-bit",
   "language": "python",
   "name": "python3"
  },
  "language_info": {
   "codemirror_mode": {
    "name": "ipython",
    "version": 3
   },
   "file_extension": ".py",
   "mimetype": "text/x-python",
   "name": "python",
   "nbconvert_exporter": "python",
   "pygments_lexer": "ipython3",
   "version": "3.10.6"
  },
  "orig_nbformat": 4,
  "vscode": {
   "interpreter": {
    "hash": "54f5aac431cfd7c572ef9950df58285278e34989427d622f407116839d3782a3"
   }
  }
 },
 "nbformat": 4,
 "nbformat_minor": 2
}
